{
  "cells": [
    {
      "cell_type": "markdown",
      "metadata": {
        "colab_type": "text",
        "id": "view-in-github"
      },
      "source": [
        "<a href=\"https://colab.research.google.com/github/josebenitezg/vision-transformer-from-scratch/blob/main/vision_transformers.ipynb\" target=\"_parent\"><img src=\"https://colab.research.google.com/assets/colab-badge.svg\" alt=\"Open In Colab\"/></a>"
      ]
    },
    {
      "cell_type": "code",
      "execution_count": 9,
      "metadata": {
        "cellView": "form",
        "id": "Xi2pjXPprRkB"
      },
      "outputs": [
        {
          "name": "stdout",
          "output_type": "stream",
          "text": [
            "The autoreload extension is already loaded. To reload it, use:\n",
            "  %reload_ext autoreload\n"
          ]
        }
      ],
      "source": [
        "from my_vit import ViTForClassfication\n",
        "%load_ext autoreload\n",
        "%autoreload 2"
      ]
    },
    {
      "cell_type": "code",
      "execution_count": 10,
      "metadata": {
        "cellView": "form",
        "id": "UbEp406Wqksp"
      },
      "outputs": [],
      "source": [
        "#@title Prepare Data 📊\n",
        "# Import libraries\n",
        "import torch\n",
        "import torchvision\n",
        "import torchvision.transforms as transforms\n",
        "\n",
        "\n",
        "def prepare_data(dataset='cifar10', batch_size=4, num_workers=2, train_sample_size=None, test_sample_size=None):\n",
        "    train_transform = transforms.Compose(\n",
        "        [transforms.ToTensor(),\n",
        "        transforms.Resize((32, 32)),\n",
        "        transforms.RandomHorizontalFlip(p=0.5),\n",
        "        transforms.RandomResizedCrop((32, 32), scale=(0.8, 1.0), ratio=(0.75, 1.3333333333333333), interpolation=2),\n",
        "        transforms.Normalize((0.5, 0.5, 0.5), (0.5, 0.5, 0.5))])\n",
        "\n",
        "    if dataset == 'cifar10':\n",
        "        trainset = torchvision.datasets.CIFAR10(root='./data', train=True,\n",
        "                                            download=True, transform=train_transform)\n",
        "    elif dataset == 'mnist':\n",
        "        trainset = torchvision.datasets.MNIST(root='./data', train=True,\n",
        "                                            download=True, transform=train_transform)\n",
        "    else:\n",
        "        print('Unsupported Dataset')\n",
        "        return\n",
        "    if train_sample_size is not None:\n",
        "        # Randomly sample a subset of the training set\n",
        "        indices = torch.randperm(len(trainset))[:train_sample_size]\n",
        "        trainset = torch.utils.data.Subset(trainset, indices)\n",
        "\n",
        "\n",
        "\n",
        "    trainloader = torch.utils.data.DataLoader(trainset, batch_size=batch_size,\n",
        "                                            shuffle=True, num_workers=num_workers)\n",
        "\n",
        "    test_transform = transforms.Compose(\n",
        "        [transforms.ToTensor(),\n",
        "        transforms.Resize((32, 32)),\n",
        "        transforms.Normalize((0.5, 0.5, 0.5), (0.5, 0.5, 0.5))])\n",
        "\n",
        "    if dataset == 'cifar10':\n",
        "        testset = torchvision.datasets.CIFAR10(root='./data', train=False,\n",
        "                                        download=True, transform=test_transform)\n",
        "    # else:\n",
        "    #     print('Unsupported Dataset')\n",
        "    #     return\n",
        "    if test_sample_size is not None:\n",
        "        # Randomly sample a subset of the test set\n",
        "        indices = torch.randperm(len(testset))[:test_sample_size]\n",
        "        testset = torch.utils.data.Subset(testset, indices)\n",
        "\n",
        "    testloader = torch.utils.data.DataLoader(testset, batch_size=batch_size,\n",
        "                                            shuffle=False, num_workers=num_workers)\n",
        "\n",
        "    if dataset == 'cifar10':\n",
        "        classes = ('plane', 'car', 'bird', 'cat',\n",
        "                'deer', 'dog', 'frog', 'horse', 'ship', 'truck')\n",
        "    return trainloader, testloader, classes"
      ]
    },
    {
      "cell_type": "code",
      "execution_count": 11,
      "metadata": {
        "cellView": "form",
        "id": "djY52Edqug3M"
      },
      "outputs": [],
      "source": [
        "# #@title Utils 🛠️\n",
        "from utils import save_experiment, save_checkpoint, load_experiment, visualize_images, \\\n",
        "                    visualize_attention"
      ]
    },
    {
      "cell_type": "code",
      "execution_count": 12,
      "metadata": {
        "cellView": "form",
        "id": "qGHq-Nl0rrFF"
      },
      "outputs": [
        {
          "name": "stdout",
          "output_type": "stream",
          "text": [
            "Files already downloaded and verified\n",
            "Files already downloaded and verified\n"
          ]
        },
        {
          "ename": "KeyboardInterrupt",
          "evalue": "",
          "output_type": "error",
          "traceback": [
            "\u001b[0;31m---------------------------------------------------------------------------\u001b[0m",
            "\u001b[0;31mKeyboardInterrupt\u001b[0m                         Traceback (most recent call last)",
            "\u001b[1;32m/home/bencivjan/ViT_pytorch/Modified_ViT_Implementation/vision-transformer-from-scratch/vision_transformers.ipynb Cell 5\u001b[0m line \u001b[0;36m5\n\u001b[1;32m     <a href='vscode-notebook-cell://ssh-remote%2Bmonetserver/home/bencivjan/ViT_pytorch/Modified_ViT_Implementation/vision-transformer-from-scratch/vision_transformers.ipynb#W4sdnNjb2RlLXJlbW90ZQ%3D%3D?line=45'>46</a>\u001b[0m     trainer\u001b[39m.\u001b[39mtrain(trainloader, testloader, epochs, config, save_model_every_n_epochs\u001b[39m=\u001b[39msave_model_every_n_epochs, log_file\u001b[39m=\u001b[39mexp_name \u001b[39m+\u001b[39m \u001b[39m'\u001b[39m\u001b[39m/train_log.txt\u001b[39m\u001b[39m'\u001b[39m)\n\u001b[1;32m     <a href='vscode-notebook-cell://ssh-remote%2Bmonetserver/home/bencivjan/ViT_pytorch/Modified_ViT_Implementation/vision-transformer-from-scratch/vision_transformers.ipynb#W4sdnNjb2RlLXJlbW90ZQ%3D%3D?line=48'>49</a>\u001b[0m \u001b[39mif\u001b[39;00m \u001b[39m__name__\u001b[39m \u001b[39m==\u001b[39m \u001b[39m'\u001b[39m\u001b[39m__main__\u001b[39m\u001b[39m'\u001b[39m:\n\u001b[0;32m---> <a href='vscode-notebook-cell://ssh-remote%2Bmonetserver/home/bencivjan/ViT_pytorch/Modified_ViT_Implementation/vision-transformer-from-scratch/vision_transformers.ipynb#W4sdnNjb2RlLXJlbW90ZQ%3D%3D?line=49'>50</a>\u001b[0m     main()\n",
            "\u001b[1;32m/home/bencivjan/ViT_pytorch/Modified_ViT_Implementation/vision-transformer-from-scratch/vision_transformers.ipynb Cell 5\u001b[0m line \u001b[0;36m4\n\u001b[1;32m     <a href='vscode-notebook-cell://ssh-remote%2Bmonetserver/home/bencivjan/ViT_pytorch/Modified_ViT_Implementation/vision-transformer-from-scratch/vision_transformers.ipynb#W4sdnNjb2RlLXJlbW90ZQ%3D%3D?line=43'>44</a>\u001b[0m loss_fn \u001b[39m=\u001b[39m nn\u001b[39m.\u001b[39mCrossEntropyLoss()\n\u001b[1;32m     <a href='vscode-notebook-cell://ssh-remote%2Bmonetserver/home/bencivjan/ViT_pytorch/Modified_ViT_Implementation/vision-transformer-from-scratch/vision_transformers.ipynb#W4sdnNjb2RlLXJlbW90ZQ%3D%3D?line=44'>45</a>\u001b[0m trainer \u001b[39m=\u001b[39m Trainer(model, optimizer, loss_fn, exp_name, device\u001b[39m=\u001b[39mdevice)\n\u001b[0;32m---> <a href='vscode-notebook-cell://ssh-remote%2Bmonetserver/home/bencivjan/ViT_pytorch/Modified_ViT_Implementation/vision-transformer-from-scratch/vision_transformers.ipynb#W4sdnNjb2RlLXJlbW90ZQ%3D%3D?line=45'>46</a>\u001b[0m trainer\u001b[39m.\u001b[39;49mtrain(trainloader, testloader, epochs, config, save_model_every_n_epochs\u001b[39m=\u001b[39;49msave_model_every_n_epochs, log_file\u001b[39m=\u001b[39;49mexp_name \u001b[39m+\u001b[39;49m \u001b[39m'\u001b[39;49m\u001b[39m/train_log.txt\u001b[39;49m\u001b[39m'\u001b[39;49m)\n",
            "File \u001b[0;32m~/ViT_pytorch/Modified_ViT_Implementation/vision-transformer-from-scratch/train.py:55\u001b[0m, in \u001b[0;36mTrainer.train\u001b[0;34m(self, trainloader, testloader, epochs, config, save_model_every_n_epochs, log_file)\u001b[0m\n\u001b[1;32m     53\u001b[0m \u001b[39m# Train the model\u001b[39;00m\n\u001b[1;32m     54\u001b[0m \u001b[39mfor\u001b[39;00m i \u001b[39min\u001b[39;00m \u001b[39mrange\u001b[39m(epochs):\n\u001b[0;32m---> 55\u001b[0m     train_loss \u001b[39m=\u001b[39m \u001b[39mself\u001b[39;49m\u001b[39m.\u001b[39;49mtrain_epoch(trainloader)\n\u001b[1;32m     56\u001b[0m     accuracy, test_loss \u001b[39m=\u001b[39m \u001b[39mself\u001b[39m\u001b[39m.\u001b[39mevaluate(testloader)\n\u001b[1;32m     57\u001b[0m     train_losses\u001b[39m.\u001b[39mappend(train_loss)\n",
            "File \u001b[0;32m~/ViT_pytorch/Modified_ViT_Implementation/vision-transformer-from-scratch/train.py:86\u001b[0m, in \u001b[0;36mTrainer.train_epoch\u001b[0;34m(self, trainloader)\u001b[0m\n\u001b[1;32m     84\u001b[0m loss \u001b[39m=\u001b[39m \u001b[39mself\u001b[39m\u001b[39m.\u001b[39mloss_fn(\u001b[39mself\u001b[39m\u001b[39m.\u001b[39mmodel(images)[\u001b[39m0\u001b[39m], labels)\n\u001b[1;32m     85\u001b[0m \u001b[39m# Backpropagate the loss\u001b[39;00m\n\u001b[0;32m---> 86\u001b[0m loss\u001b[39m.\u001b[39;49mbackward()\n\u001b[1;32m     87\u001b[0m \u001b[39m# Update the model's parameters\u001b[39;00m\n\u001b[1;32m     88\u001b[0m \u001b[39mself\u001b[39m\u001b[39m.\u001b[39moptimizer\u001b[39m.\u001b[39mstep()\n",
            "File \u001b[0;32m~/.local/lib/python3.8/site-packages/torch/_tensor.py:522\u001b[0m, in \u001b[0;36mTensor.backward\u001b[0;34m(self, gradient, retain_graph, create_graph, inputs)\u001b[0m\n\u001b[1;32m    512\u001b[0m \u001b[39mif\u001b[39;00m has_torch_function_unary(\u001b[39mself\u001b[39m):\n\u001b[1;32m    513\u001b[0m     \u001b[39mreturn\u001b[39;00m handle_torch_function(\n\u001b[1;32m    514\u001b[0m         Tensor\u001b[39m.\u001b[39mbackward,\n\u001b[1;32m    515\u001b[0m         (\u001b[39mself\u001b[39m,),\n\u001b[0;32m   (...)\u001b[0m\n\u001b[1;32m    520\u001b[0m         inputs\u001b[39m=\u001b[39minputs,\n\u001b[1;32m    521\u001b[0m     )\n\u001b[0;32m--> 522\u001b[0m torch\u001b[39m.\u001b[39;49mautograd\u001b[39m.\u001b[39;49mbackward(\n\u001b[1;32m    523\u001b[0m     \u001b[39mself\u001b[39;49m, gradient, retain_graph, create_graph, inputs\u001b[39m=\u001b[39;49minputs\n\u001b[1;32m    524\u001b[0m )\n",
            "File \u001b[0;32m~/.local/lib/python3.8/site-packages/torch/autograd/__init__.py:266\u001b[0m, in \u001b[0;36mbackward\u001b[0;34m(tensors, grad_tensors, retain_graph, create_graph, grad_variables, inputs)\u001b[0m\n\u001b[1;32m    261\u001b[0m     retain_graph \u001b[39m=\u001b[39m create_graph\n\u001b[1;32m    263\u001b[0m \u001b[39m# The reason we repeat the same comment below is that\u001b[39;00m\n\u001b[1;32m    264\u001b[0m \u001b[39m# some Python versions print out the first line of a multi-line function\u001b[39;00m\n\u001b[1;32m    265\u001b[0m \u001b[39m# calls in the traceback and some print out the last line\u001b[39;00m\n\u001b[0;32m--> 266\u001b[0m Variable\u001b[39m.\u001b[39;49m_execution_engine\u001b[39m.\u001b[39;49mrun_backward(  \u001b[39m# Calls into the C++ engine to run the backward pass\u001b[39;49;00m\n\u001b[1;32m    267\u001b[0m     tensors,\n\u001b[1;32m    268\u001b[0m     grad_tensors_,\n\u001b[1;32m    269\u001b[0m     retain_graph,\n\u001b[1;32m    270\u001b[0m     create_graph,\n\u001b[1;32m    271\u001b[0m     inputs,\n\u001b[1;32m    272\u001b[0m     allow_unreachable\u001b[39m=\u001b[39;49m\u001b[39mTrue\u001b[39;49;00m,\n\u001b[1;32m    273\u001b[0m     accumulate_grad\u001b[39m=\u001b[39;49m\u001b[39mTrue\u001b[39;49;00m,\n\u001b[1;32m    274\u001b[0m )\n",
            "\u001b[0;31mKeyboardInterrupt\u001b[0m: "
          ]
        }
      ],
      "source": [
        "#@title Train ViT 🧠 🏋🏽\n",
        "#@title String fields\n",
        "from train import Trainer\n",
        "\n",
        "exp_name = 'vit-with-100-epochs-12-layers' #@param {type:\"string\"}\n",
        "batch_size = 32 #@param {type: \"integer\"}\n",
        "epochs = 100 #@param {type: \"integer\"}\n",
        "lr = 1e-2  #@param {type: \"number\"}\n",
        "save_model_every = 10 #@param {type: \"integer\"}\n",
        "\n",
        "import torch\n",
        "from torch import nn, optim\n",
        "\n",
        "device = \"cuda\" if torch.cuda.is_available() else \"cpu\"\n",
        "\n",
        "config = {\n",
        "    \"patch_size\": 4,  # Input image size: 32x32 -> 8x8 patches\n",
        "    \"hidden_size\": 48,\n",
        "    \"num_hidden_layers\": 12,\n",
        "    \"num_attention_heads\": 4,\n",
        "    \"intermediate_size\": 4 * 48, # 4 * hidden_size\n",
        "    \"hidden_dropout_prob\": 0.0,\n",
        "    \"attention_probs_dropout_prob\": 0.0,\n",
        "    \"initializer_range\": 0.02,\n",
        "    \"image_size\": 32,\n",
        "    \"num_classes\": 10, # num_classes of CIFAR10\n",
        "    \"num_channels\": 3,\n",
        "    \"qkv_bias\": True,\n",
        "    \"use_faster_attention\": True,\n",
        "}\n",
        "# These are not hard constraints, but are used to prevent misconfigurations\n",
        "assert config[\"hidden_size\"] % config[\"num_attention_heads\"] == 0\n",
        "assert config['intermediate_size'] == 4 * config['hidden_size']\n",
        "assert config['image_size'] % config['patch_size'] == 0\n",
        "\n",
        "def main():\n",
        "    # Training parameters\n",
        "    save_model_every_n_epochs = save_model_every\n",
        "    # Load the CIFAR10 dataset\n",
        "    trainloader, testloader, _ = prepare_data(batch_size=batch_size)\n",
        "    # Create the model, optimizer, loss function and trainer\n",
        "    model = ViTForClassfication(config)\n",
        "    optimizer = optim.AdamW(model.parameters(), lr=lr, weight_decay=1e-2)\n",
        "    loss_fn = nn.CrossEntropyLoss()\n",
        "    trainer = Trainer(model, optimizer, loss_fn, exp_name, device=device)\n",
        "    trainer.train(trainloader, testloader, epochs, config, save_model_every_n_epochs=save_model_every_n_epochs, log_file=f'experiments/{exp_name}/train_log.txt')\n",
        "\n",
        "\n",
        "if __name__ == '__main__':\n",
        "    main()\n"
      ]
    },
    {
      "cell_type": "code",
      "execution_count": null,
      "metadata": {
        "cellView": "form",
        "colab": {
          "base_uri": "https://localhost:8080/",
          "height": 847
        },
        "id": "nJdJTQrIvAat",
        "outputId": "a6d17313-d7a7-4f43-ae06-5cd59b0b1545"
      },
      "outputs": [],
      "source": [
        "#@title Visualize Dataset\n",
        "# Show some training images\n",
        "trainset = torchvision.datasets.CIFAR10(root='./data', train=True,\n",
        "                                            download=True)\n",
        "classes = ('plane', 'car', 'bird', 'cat',\n",
        "        'deer', 'dog', 'frog', 'horse', 'ship', 'truck')\n",
        "visualize_images(trainset, classes)"
      ]
    },
    {
      "cell_type": "code",
      "execution_count": null,
      "metadata": {
        "cellView": "form",
        "colab": {
          "base_uri": "https://localhost:8080/",
          "height": 465
        },
        "id": "UTuHlgNgzfWW",
        "outputId": "91986773-c932-40b4-835b-ef78f7151fa3"
      },
      "outputs": [],
      "source": [
        "#@title Plot training Results\n",
        "exp_name = 'vit-with-100-epochs-12-layers'\n",
        "config, model, train_losses, test_losses, accuracies = load_experiment(f\"{exp_name}/\")\n",
        "\n",
        "import matplotlib.pyplot as plt\n",
        "# Create two subplots of train/test losses and accuracies\n",
        "fig, (ax1, ax2) = plt.subplots(1, 2, figsize=(15, 5))\n",
        "ax1.plot(train_losses, label=\"Train loss\")\n",
        "ax1.plot(test_losses, label=\"Test loss\")\n",
        "ax1.set_xlabel(\"Epoch\")\n",
        "ax1.set_ylabel(\"Loss\")\n",
        "ax1.legend()\n",
        "ax2.plot(accuracies)\n",
        "ax2.set_xlabel(\"Epoch\")\n",
        "ax2.set_ylabel(\"Accuracy\")\n",
        "plt.savefig(\"metrics.png\")\n",
        "plt.show()"
      ]
    },
    {
      "cell_type": "code",
      "execution_count": null,
      "metadata": {
        "cellView": "form",
        "colab": {
          "base_uri": "https://localhost:8080/",
          "height": 799
        },
        "id": "xFiXAL9BzvTV",
        "outputId": "2bf0783b-9468-4f4c-b271-48e0eeb26bae"
      },
      "outputs": [],
      "source": [
        "#@title Visualize Attetion\n",
        "visualize_attention(model, \"attention.png\")"
      ]
    },
    {
      "cell_type": "code",
      "execution_count": null,
      "metadata": {},
      "outputs": [],
      "source": []
    }
  ],
  "metadata": {
    "accelerator": "GPU",
    "colab": {
      "authorship_tag": "ABX9TyMslFzruD1HVyaDuYOXSsKW",
      "gpuType": "V100",
      "include_colab_link": true,
      "machine_shape": "hm",
      "provenance": []
    },
    "kernelspec": {
      "display_name": "Python 3 (ipykernel)",
      "language": "python",
      "name": "python3"
    },
    "language_info": {
      "codemirror_mode": {
        "name": "ipython",
        "version": 3
      },
      "file_extension": ".py",
      "mimetype": "text/x-python",
      "name": "python",
      "nbconvert_exporter": "python",
      "pygments_lexer": "ipython3",
      "version": "3.8.10"
    }
  },
  "nbformat": 4,
  "nbformat_minor": 0
}
